{
  "nbformat": 4,
  "nbformat_minor": 0,
  "metadata": {
    "colab": {
      "provenance": []
    },
    "kernelspec": {
      "name": "python3",
      "display_name": "Python 3"
    },
    "language_info": {
      "name": "python"
    }
  },
  "cells": [
    {
      "cell_type": "code",
      "source": [
        "!pip install korean-lunar-calendar"
      ],
      "metadata": {
        "colab": {
          "base_uri": "https://localhost:8080/"
        },
        "id": "8RiEdILTtY1J",
        "outputId": "8a6da7ab-7287-4817-f0bd-8d04cf9bc4e4"
      },
      "execution_count": 6,
      "outputs": [
        {
          "output_type": "stream",
          "name": "stdout",
          "text": [
            "Requirement already satisfied: korean-lunar-calendar in /usr/local/lib/python3.11/dist-packages (0.3.1)\n"
          ]
        }
      ]
    },
    {
      "cell_type": "code",
      "source": [
        "from datetime import datetime\n",
        "from korean_lunar_calendar import KoreanLunarCalendar\n",
        "\n",
        "def calculate_age(birthdate):\n",
        "    today = datetime.today()                                         # 오늘 날짜\n",
        "    age = today.year - birthdate.year                                # 기본 연도 차이 계산\n",
        "    if (today.month, today.day) < (birthdate.month, birthdate.day):  # 생일이 아직 안 지났으면 -1\n",
        "        age -= 1\n",
        "    return age\n",
        "\n",
        "def lunar_to_solar(year, month, day, is_leap_month=False):\n",
        "    cal = KoreanLunarCalendar()\n",
        "    cal.setLunar(year, month, day, is_leap_month)\n",
        "    solar_date = cal.getSolarDate()\n",
        "    return datetime(solar_date[0], solar_date[1], solar_date[2])\n",
        "\n",
        "def main():\n",
        "    print(\" 국제 표준 나이 계산기 \")\n",
        "    print(\"1. 양력 생일 2. 음력 생일\")\n",
        "    choice = input(\"선택하세요 (1 또는 2): \")\n",
        "\n",
        "    try:\n",
        "        if choice == \"1\":\n",
        "            birth_input = input(\"생년월일을 입력하세요 (YYYY-MM-DD): \")\n",
        "            birthdate = datetime.strptime(birth_input, \"%Y-%m-%d\")\n",
        "        elif choice == \"2\":\n",
        "            lunar_input = input(\"음력 생일을 입력하세요 (YYYY-MM-DD): \")\n",
        "            is_leap = input(\"윤달인가요? (예: y / 아니면 그냥 엔터): \").lower().strip() == 'y'\n",
        "            year, month, day = map(int, lunar_input.split(\"-\"))\n",
        "            birthdate = lunar_to_solar(year, month, day, is_leap)\n",
        "            print(f\"변환된 양력 생일: {birthdate.strftime('%Y-%m-%d')}\")\n",
        "        else:\n",
        "            print(\" 잘못된 선택입니다.\")\n",
        "            return\n",
        "\n",
        "        age = calculate_age(birthdate)\n",
        "        print(f\"당신의 만 나이는 {age}세입니다.\")\n",
        "    except Exception as e:\n",
        "        print(\"오류 발생:\", e)\n",
        "        print(\"형식이 잘못되었거나 날짜를 확인해주세요.\")\n",
        "\n",
        "if __name__ == \"__main__\":\n",
        "    main()\n"
      ],
      "metadata": {
        "colab": {
          "base_uri": "https://localhost:8080/"
        },
        "id": "gphJhO4otKhS",
        "outputId": "85168517-f816-4410-c735-dd2119bf4852"
      },
      "execution_count": 9,
      "outputs": [
        {
          "output_type": "stream",
          "name": "stdout",
          "text": [
            " 국제 표준 나이 계산기 \n",
            "1. 양력 생일 2. 음력 생일\n",
            "선택하세요 (1 또는 2): 1\n",
            "생년월일을 입력하세요 (YYYY-MM-DD): 2000-12-02\n",
            "당신의 만 나이는 24세입니다.\n"
          ]
        }
      ]
    }
  ]
}